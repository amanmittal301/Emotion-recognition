#will upload the step by step execution soon
import cv2
import glob
import random
import numpy as np
import pandas as pd

dataset=pd.read_csv('legend.csv')
print("DATASET CONTAINS::"+str(len(dataset)))
a=dataset.values
print("DATA LOOK LIKE::"),
print(a[1])




neutral=happiness=0
reduced_dataset=[]
for item in a:
    if item[2]=='neutral' and neutral<500:
        neutral+=1
        reduced_dataset.append(item)
    
    if item[2]=='happiness' and happiness<500:
        happiness+=1
        reduced_dataset.append(item)
print(len(reduced_dataset))


emotions = ["neutral", "happiness"]
fishface= cv2.face.FisherFaceRecognizer_create() #Initialize fisher face classifier
data = {}

def make_sets():
    train_data = []
    train_labels = []
    prediction_data=[]
    prediction_labels=[]
    train1=reduced_dataset[0:400]
    train2=reduced_dataset[500:900]
    predict1=reduced_dataset[400:500]
    predict2=reduced_dataset[900:1000]
    for item in train1:
        items=item[1]
        image = cv2.imread(items) #open image
        gray = cv2.cvtColor(image, cv2.COLOR_BGR2GRAY) #convert to grayscale
        train_data.append(gray)
        train_labels.append(emotions.index(item[2]))
    for item in train2:
        items=item[1]
        image = cv2.imread(items) #open image
        gray = cv2.cvtColor(image, cv2.COLOR_BGR2GRAY) #convert to grayscale
        train_data.append(gray)
        train_labels.append(emotions.index(item[2]))
    for item in predict1:
        items=item[1]
        image = cv2.imread(items) #open image
        gray = cv2.cvtColor(image, cv2.COLOR_BGR2GRAY) #convert to grayscale
        prediction_data.append(gray)
        prediction_labels.append(emotions.index(item[2]))
    for item in predict2:
        items=item[1]
        image = cv2.imread(items) #open image
        gray = cv2.cvtColor(image, cv2.COLOR_BGR2GRAY) #convert to grayscale
        prediction_data.append(gray)
        prediction_labels.append(emotions.index(item[2]))
    return train_data,train_labels,prediction_data,prediction_labels




def run_recognizer():
    training_dataset, training_labelset ,prediction_dataset,prediction_labelset= make_sets()
    training_dataset=np.asarray(training_dataset)
    prediction_dataset=np.asarray(prediction_dataset)
    training_data=[]
    training_labels=[]
    prediction_data=[]
    prediction_labels=[]
    #print(len(training_dataset))
    for i in range(800):
       # print(len(training_dataset[i]))
        if len(training_dataset[i]) == 350:
            training_data.append(training_dataset[i])
            training_labels.append(training_labelset[i])
    for i in range(113):
       # print(len(training_dataset[i]))
        if len(prediction_dataset[i]) == 350:
            prediction_data.append(prediction_dataset[i])
            prediction_labels.append(prediction_labelset[i])
    print ("training fisher face classifier")
    print ("size of training set is:"+ str(len(training_labels))+ "images")
    fishface.train(training_data, np.asarray(training_labels))
    print ("predicting classification set")
    cnt = 0
    correct = 0
    incorrect = 0
    for i in prediction_data:
        pred, conf = fishface.predict(i)
        if pred == prediction_labels[cnt]:
            correct += 1
            cnt += 1
        else:
            incorrect += 1
            cnt += 1
    return ((100*correct)/(correct + incorrect))

#data_images
from tkinter.filedialog import *
from tkinter import *
from PIL import Image, ImageTk
import matplotlib.pyplot as plt
import matplotlib.image as mpimg
root = Tk()
root.geometry('700x700')
root.title('Emotion Recognization')

def test():

    items=dfile.name
    img=mpimg.imread(items)
    resized = cv2.resize(img, (350,350), interpolation = cv2.INTER_AREA)
    imgplot =plt.imshow(resized)

    plt.show()
    image = cv2.imread(items) #open image
    gray = cv2.cvtColor(image, cv2.COLOR_BGR2GRAY) #convert to grayscale
    resized = cv2.resize(gray, (350,350), interpolation = cv2.INTER_AREA)
    
    pred, conf = fishface.predict(resized)
    if pred==1:
        return ("HAPPY")
    else:
        return ("NEUTRAL")

    

def fhand():
    global dfile
    dfile= askopenfile()
def des():
    root.destroy()

def main():
    var = StringVar()
    t=test()
    var.set(t)
    w = Label(root, textvariable=var)
    w.pack()
    im = Image.open(dfile.name)

    # A root window for displaying objects

 # Convert the Image object into a TkPhoto object
    tkimage = ImageTk.PhotoImage(im)

    r=Label(root, image=tkimage).pack()
    r.pack()

    
mylabel= Label(text='Emotion Recognization', font=('Times',20,'bold')).pack()    
btn = Button(text='Choose Image', width=40, command=fhand).pack()
btn2= Button(text='Predict',width=40,command=main).pack()
root.mainloop()
